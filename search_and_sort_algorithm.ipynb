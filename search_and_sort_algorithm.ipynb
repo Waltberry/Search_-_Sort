{
  "nbformat": 4,
  "nbformat_minor": 0,
  "metadata": {
    "kernelspec": {
      "display_name": "Python 3 (ipykernel)",
      "language": "python",
      "name": "python3"
    },
    "language_info": {
      "codemirror_mode": {
        "name": "ipython",
        "version": 3
      },
      "file_extension": ".py",
      "mimetype": "text/x-python",
      "name": "python",
      "nbconvert_exporter": "python",
      "pygments_lexer": "ipython3",
      "version": "3.8.8"
    },
    "colab": {
      "name": "search-and-sort_algorithm.ipynb",
      "provenance": [],
      "include_colab_link": true
    }
  },
  "cells": [
    {
      "cell_type": "markdown",
      "metadata": {
        "id": "view-in-github",
        "colab_type": "text"
      },
      "source": [
        "<a href=\"https://colab.research.google.com/github/Waltberry/Search_-_Sort/blob/main/search_and_sort_algorithm.ipynb\" target=\"_parent\"><img src=\"https://colab.research.google.com/assets/colab-badge.svg\" alt=\"Open In Colab\"/></a>"
      ]
    },
    {
      "cell_type": "markdown",
      "metadata": {
        "id": "JjweNQUITGMQ"
      },
      "source": [
        "## Linear Search"
      ]
    },
    {
      "cell_type": "code",
      "metadata": {
        "id": "r3v2qGJ6TGMT"
      },
      "source": [
        "def linear_search(item, my_list):\n",
        "    i = 0 \n",
        "    found = False\n",
        "    \n",
        "    while i < len(my_list) and found == False:\n",
        "        if my_list[i] == item:\n",
        "            found = True\n",
        "        else:\n",
        "            i = i + 1\n",
        "    return found         "
      ],
      "execution_count": null,
      "outputs": []
    },
    {
      "cell_type": "code",
      "metadata": {
        "id": "MiUUU1UiTGMW",
        "outputId": "9e448476-620d-4707-b234-f1b3696d7e28"
      },
      "source": [
        "test = [6,5,8,2,3,45,87,24,70]\n",
        "print(linear_search(4,test))\n",
        "print(linear_search(88,test))"
      ],
      "execution_count": null,
      "outputs": [
        {
          "name": "stdout",
          "output_type": "stream",
          "text": [
            "False\n",
            "False\n"
          ]
        }
      ]
    },
    {
      "cell_type": "markdown",
      "metadata": {
        "id": "xsErBsARTGMY"
      },
      "source": [
        "## Binary Search"
      ]
    },
    {
      "cell_type": "code",
      "metadata": {
        "id": "e18Xz86nTGMZ"
      },
      "source": [
        "def binary_search(item, my_list):\n",
        "    found = False\n",
        "    first = 0\n",
        "    last = len(my_list) - 1\n",
        "    \n",
        "    while first <= last and found == False:\n",
        "        midpoint = (first + last)//2\n",
        "        if my_list[midpoint] == item:\n",
        "            found = True\n",
        "        else:\n",
        "            if my_list[midpoint] < item:\n",
        "                first = midpoint + 1\n",
        "            else:\n",
        "                last = midpoint - 1\n",
        "    return found            \n",
        "    "
      ],
      "execution_count": null,
      "outputs": []
    },
    {
      "cell_type": "code",
      "metadata": {
        "id": "xQ9cRGNYTGMb",
        "outputId": "47c763c2-7cdc-45aa-c9d8-4c633530f947"
      },
      "source": [
        "test = [2,3,5,6,8,24,45,70,87]\n",
        "print(binary_search(87,test))\n",
        "print(binary_search(88,test))"
      ],
      "execution_count": null,
      "outputs": [
        {
          "name": "stdout",
          "output_type": "stream",
          "text": [
            "True\n",
            "False\n"
          ]
        }
      ]
    },
    {
      "cell_type": "markdown",
      "metadata": {
        "id": "UNtpo2dxTGMc"
      },
      "source": [
        "## Bubble Sort"
      ]
    },
    {
      "cell_type": "code",
      "metadata": {
        "id": "YJTXCQYYTGMd"
      },
      "source": [
        "def bubble_sort(my_list):\n",
        "    swap_again = True\n",
        "    n = len(my_list)\n",
        "    while n > 0 and swap_again == True:\n",
        "        n = n - 1\n",
        "        swap_again == False\n",
        "        \n",
        "        for i in range(n):\n",
        "            if my_list[i] > my_list[i+1]:\n",
        "                my_list[i], my_list[i+1] = my_list[i+1], my_list[i]\n",
        "                swap_again = True\n",
        "    return my_list             "
      ],
      "execution_count": null,
      "outputs": []
    },
    {
      "cell_type": "code",
      "metadata": {
        "id": "N8dBZLnHTGMf",
        "outputId": "523020cd-c1f3-48bf-a121-f72acf131c48"
      },
      "source": [
        "test_2 = [70,24,87,45,6,3,2,8,5]\n",
        "print(bubble_sort(test_2))"
      ],
      "execution_count": null,
      "outputs": [
        {
          "name": "stdout",
          "output_type": "stream",
          "text": [
            "[2, 3, 5, 6, 8, 24, 45, 70, 87]\n"
          ]
        }
      ]
    },
    {
      "cell_type": "markdown",
      "metadata": {
        "id": "MqEfXZ4wTGMg"
      },
      "source": [
        "## Insertion Sort"
      ]
    },
    {
      "cell_type": "code",
      "metadata": {
        "id": "FuTKIGUGTGMh"
      },
      "source": [
        "def insertion_sort(my_list):\n",
        "    n = len(my_list)\n",
        "    for i in range(1,n):\n",
        "        value = my_list[i]\n",
        "        j = i\n",
        "        while j > 0 and my_list[j-1] > value:\n",
        "            my_list[j] = my_list[j-1]\n",
        "            j = j - 1\n",
        "        my_list[j] = value\n",
        "    return my_list     "
      ],
      "execution_count": null,
      "outputs": []
    },
    {
      "cell_type": "code",
      "metadata": {
        "id": "U5D-ZPyiTGMi",
        "outputId": "4acde2c0-123c-4206-dd32-697e96d64a2e"
      },
      "source": [
        "test_2 = [70,24,87,45,6,3,2,8,5]\n",
        "print(insertion_sort(test_2))"
      ],
      "execution_count": null,
      "outputs": [
        {
          "name": "stdout",
          "output_type": "stream",
          "text": [
            "[2, 3, 5, 6, 8, 24, 45, 70, 87]\n"
          ]
        }
      ]
    },
    {
      "cell_type": "code",
      "metadata": {
        "id": "6KB2Whj-TGMi"
      },
      "source": [
        ""
      ],
      "execution_count": null,
      "outputs": []
    }
  ]
}